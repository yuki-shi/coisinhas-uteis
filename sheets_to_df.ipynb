{
  "nbformat": 4,
  "nbformat_minor": 0,
  "metadata": {
    "colab": {
      "name": "sheets-to-df.ipynb",
      "provenance": [],
      "authorship_tag": "ABX9TyN3TU4YHcB0d255/3M0HgXV",
      "include_colab_link": true
    },
    "kernelspec": {
      "name": "python3",
      "display_name": "Python 3"
    },
    "language_info": {
      "name": "python"
    }
  },
  "cells": [
    {
      "cell_type": "markdown",
      "metadata": {
        "id": "view-in-github",
        "colab_type": "text"
      },
      "source": [
        "<a href=\"https://colab.research.google.com/github/yuki-shi/coisinhas-uteis/blob/main/sheets_to_df.ipynb\" target=\"_parent\"><img src=\"https://colab.research.google.com/assets/colab-badge.svg\" alt=\"Open In Colab\"/></a>"
      ]
    },
    {
      "cell_type": "code",
      "execution_count": null,
      "metadata": {
        "id": "WI2azTeGl8Sf"
      },
      "outputs": [],
      "source": [
        "from google.colab import auth\n",
        "import pandas as pd\n",
        "import gspread\n",
        "from google.auth import default\n",
        "\n",
        "auth.authenticate_user()\n",
        "creds, _ = default()\n",
        "\n",
        "gc = gspread.authorize(creds)\n",
        "sh = gc.open_by_key(key) # key está na URL da planilha\n",
        "worksheet = sh.get_worksheet(index) # index da aba como argumento\n",
        "\n",
        "rows = worksheet.get_all_values()\n",
        "df = pd.DataFrame.from_records(rows)\n",
        "\n",
        "columns = df.iloc[0].values\n",
        "df.columns = columns\n",
        "df.drop(index=0, axis=0, inplace=True)\n",
        "df.head()"
      ]
    }
  ]
}