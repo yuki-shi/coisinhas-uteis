{
  "nbformat": 4,
  "nbformat_minor": 0,
  "metadata": {
    "colab": {
      "name": "youtube-api.ipynb",
      "provenance": [],
      "authorship_tag": "ABX9TyNCj/BhVTwp97mjN6oTjnN3",
      "include_colab_link": true
    },
    "kernelspec": {
      "name": "python3",
      "display_name": "Python 3"
    },
    "language_info": {
      "name": "python"
    }
  },
  "cells": [
    {
      "cell_type": "markdown",
      "metadata": {
        "id": "view-in-github",
        "colab_type": "text"
      },
      "source": [
        "<a href=\"https://colab.research.google.com/github/yuki-shi/coisinhas-uteis/blob/main/youtube_format_to_df.ipynb\" target=\"_parent\"><img src=\"https://colab.research.google.com/assets/colab-badge.svg\" alt=\"Open In Colab\"/></a>"
      ]
    },
    {
      "cell_type": "code",
      "source": [
        "import os\n",
        "import json\n",
        "import pandas as pd\n",
        "import sys\n",
        "import io\n",
        "import re\n",
        "\n",
        "import google.oauth2.credentials\n",
        "import google_auth_oauthlib.flow\n",
        "from googleapiclient.discovery import build\n",
        "from googleapiclient.errors import HttpError\n",
        "from google_auth_oauthlib.flow import InstalledAppFlow"
      ],
      "metadata": {
        "id": "_8g_1_Bdyv8k"
      },
      "execution_count": null,
      "outputs": []
    },
    {
      "cell_type": "code",
      "execution_count": null,
      "metadata": {
        "id": "6kXrTi0XysoD"
      },
      "outputs": [],
      "source": [
        "def format_to_dataframe(response):\n",
        "  # Listas vazias para os rows e headers formatados\n",
        "  rows_f = []\n",
        "  headers_f = []\n",
        "\n",
        "  response_split = response.split('rows') # separamos a response entre header e rows\n",
        "  rows = response_split[1].split('[')\n",
        "  headers = response_split[0].split('name')\n",
        "\n",
        "  # Extração e formatação do header\n",
        "  for i in headers[1:]:\n",
        "    headers_f.append(re.findall(r\"(?<=': ).*\", i)[0]\n",
        "                      .split(',')[0])\n",
        "\n",
        "\n",
        "  headers_f = [x.replace(\"'\", '') for x in headers_f]\n",
        "\n",
        "  # Extração e formatação do resto\n",
        "  for row in rows:\n",
        "    row = row.strip(', ')\n",
        "    rows_f.append(re.sub(r'[\"\\]\\}]', '', row))\n",
        "\n",
        "  rows_f[-1] = rows_f[-1].strip()\n",
        "\n",
        "  df = pd.DataFrame([sub.split(',') for sub in rows_f[2:]], columns=headers_f)\n",
        "  df['day'] = df['day'].str.replace(\"'\", '')\n",
        "\n",
        "  return df"
      ]
    },
    {
      "cell_type": "code",
      "source": [
        "old_stdout = sys.stdout\n",
        "new_stdout = io.StringIO()\n",
        "sys.stdout = new_stdout\n",
        "\n",
        "\n",
        "execute_api_request(\n",
        "    youtubeAnalytics.reports().query,\n",
        "    ids='channel==MINE',\n",
        "    startDate='2017-01-01',\n",
        "    endDate='2017-12-31',\n",
        "    metrics='estimatedMinutesWatched,views,likes,subscribersGained',\n",
        "    dimensions='day',\n",
        "    sort='day'\n",
        ")\n",
        "\n",
        "\n",
        "response = new_stdout.getvalue()\n",
        "sys.stdout = old_stdout\n",
        "\n",
        "## A solução do stdout foi copiada de https://www.adamsmith.haus/python/answers/how-to-redirect-print-output-to-a-variable-in-python"
      ],
      "metadata": {
        "id": "ZoLK4idmytPv"
      },
      "execution_count": null,
      "outputs": []
    },
    {
      "cell_type": "code",
      "source": [
        "format_to_dataframe(response)"
      ],
      "metadata": {
        "id": "CEd68JEHyugG"
      },
      "execution_count": null,
      "outputs": []
    }
  ]
}